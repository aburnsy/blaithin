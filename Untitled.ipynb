{
 "cells": [
  {
   "cell_type": "code",
   "execution_count": 56,
   "id": "977431db-4daa-4534-8902-b87df850d40f",
   "metadata": {},
   "outputs": [],
   "source": [
    "from requests_html import HTMLSession\n",
    "from bs4 import BeautifulSoup\n",
    "from urllib.parse import urljoin\n",
    "from re import sub\n"
   ]
  },
  {
   "cell_type": "code",
   "execution_count": 65,
   "id": "12ef11f7-1a68-44ef-bdcb-9a38f391fd66",
   "metadata": {},
   "outputs": [],
   "source": [
    "URL = \"https://www.quickcrop.ie/category/grasses-and-ferns/\"\n",
    "category = \"Spring Flowering Bulbs\"\n",
    "session = HTMLSession()\n",
    "page = session.get(URL)\n",
    "content = BeautifulSoup(page.content, \"html.parser\")"
   ]
  },
  {
   "cell_type": "code",
   "execution_count": 66,
   "id": "733d1457-573a-4006-a871-876d8351d1cd",
   "metadata": {},
   "outputs": [],
   "source": [
    "products = content.find(\"ul\", class_ = \"productGrid\").find_all(\"li\")"
   ]
  },
  {
   "cell_type": "code",
   "execution_count": 72,
   "id": "a36d857a-5e88-47c5-bf91-2fd97a5a3632",
   "metadata": {},
   "outputs": [
    {
     "name": "stdout",
     "output_type": "stream",
     "text": [
      "'source': 'quickcrop',\n",
      "'source_url': 'https://www.quickcrop.ie/category/grasses-and-ferns/',\n",
      "'product_url': 'https://www.quickcrop.ie/products/dryopteris-dilatata-crispa-whiteside-p9-1l-pots.html',\n",
      "'category': 'Spring Flowering Bulbs',\n",
      "'product_name': \"Dryopteris dilatata 'Crispa Whiteside' - P9 & 1L Pots\",\n",
      "'product_code': None,\n",
      "'img_url': 'https://cdn11.bigcommerce.com/s-625n27otji/images/stencil/500x659/products/3391/6755/Dryopteris-dilatata-Crispa-Whiteside_530x2x_copy__80135.1683557373.jpg?c=1',\n",
      "'description': 'A very attractive, relatively compact, bright green fern.\\nPerfect for adding colour and shape to shaded areas.\\nGrows well in almost any soil type.',\n",
      "'price': 5.95,\n",
      "'stock': 0,\n"
     ]
    }
   ],
   "source": [
    "\n",
    "\n",
    "results = []\n",
    "\n",
    "for product in products[0:1]:\n",
    "    product_link = product.find(\"h2\", class_=\"card-title\")\n",
    "    product_url = product_link.a['href']\n",
    "    product_name = product_link.a.text\n",
    "    image = product.find(\"div\", class_=\"card-img-container\").img\n",
    "    img_url = image['src']\n",
    "    price_inc_vat_str = product.find(\"span\", class_=\"price price--withTax\").text\n",
    "    # price_inc_vat = float(sub(r'[^\\d.]', '', price_inc_vat_str))\n",
    "    # stock_str = product.find(\"div\", class_=\"card-button\").a.text\n",
    "    \n",
    "    product_page = session.get(product_url)\n",
    "    product_content = BeautifulSoup(product_page.content, \"html.parser\")\n",
    "    try:\n",
    "        stock = product_content.find('span', class_ = 'data-product-stock').text\n",
    "    except:\n",
    "        stock = 0\n",
    "\n",
    "    description_lst = product_content.find('div', id = 'custom-product-short-description').ul.find_all('li')\n",
    "    description = '\\n'.join([element.text for element in description_lst])\n",
    "    \n",
    "    results.append({\n",
    "        \"source\": \"quickcrop\",\n",
    "        \"source_url\": URL,\n",
    "        \"product_url\": product_url,\n",
    "        \"category\": category,\n",
    "        \"product_name\": product_name,\n",
    "        \"product_code\": None,\n",
    "        \"img_url\": img_url,\n",
    "        \"description\": description,\n",
    "        \"price\": price_inc_vat,\n",
    "        # \"size\": size,\n",
    "        \"stock\": stock,\n",
    "    })\n",
    "print(\"\\n\".join(\"{!r}: {!r},\".format(k, v) for k, v in results[0].items()) )\n",
    "                               \n"
   ]
  },
  {
   "cell_type": "code",
   "execution_count": null,
   "id": "760a3862-65fe-4dde-b199-cfd8b8902604",
   "metadata": {},
   "outputs": [],
   "source": []
  }
 ],
 "metadata": {
  "kernelspec": {
   "display_name": "Python 3 (ipykernel)",
   "language": "python",
   "name": "python3"
  },
  "language_info": {
   "codemirror_mode": {
    "name": "ipython",
    "version": 3
   },
   "file_extension": ".py",
   "mimetype": "text/x-python",
   "name": "python",
   "nbconvert_exporter": "python",
   "pygments_lexer": "ipython3",
   "version": "3.12.1"
  }
 },
 "nbformat": 4,
 "nbformat_minor": 5
}
