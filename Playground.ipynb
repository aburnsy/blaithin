{
 "cells": [
  {
   "cell_type": "code",
   "execution_count": 13,
   "id": "19869c62-83bd-49bb-8562-9930a4d43231",
   "metadata": {},
   "outputs": [],
   "source": [
    "import requests\n",
    "import json\n",
    "from urllib.parse import urljoin"
   ]
  },
  {
   "cell_type": "code",
   "execution_count": 5,
   "id": "c391f6be-0e35-47d6-91e7-58fa317c05db",
   "metadata": {},
   "outputs": [],
   "source": [
    "URL = 'https://lwapp-uks-prod-psearch-01.azurewebsites.net/api/v1/plants/search/advanced'\n",
    "headers = {'Accept': 'application/json', 'Content-Type':'application/json'}\n",
    "i = 0\n",
    "payload = {'includeAggregation': False,'pageSize':100,'startFrom':i}\n",
    "\n",
    "response = requests.post(URL, json.dumps(payload),headers=headers)\n",
    "results = json.loads(response.text)['hits']\n",
    "\n",
    "baseURL = 'https://www.rhs.org.uk/plants'\n",
    "for x in range(pageSize):\n",
    "    results[x]['botanicalName']\n",
    "    product_url = urljoin(baseURL, results[x]['id'],  , 'details'\n",
    "    print(product_url)"
   ]
  },
  {
   "cell_type": "code",
   "execution_count": 26,
   "id": "27153dc4-5007-4468-8fa1-39c538d10f97",
   "metadata": {},
   "outputs": [
    {
     "name": "stderr",
     "output_type": "stream",
     "text": [
      "<>:1: SyntaxWarning: invalid escape sequence '\\e'\n",
      "<>:1: SyntaxWarning: invalid escape sequence '\\e'\n",
      "C:\\Users\\andre\\AppData\\Local\\Temp\\ipykernel_16156\\269324660.py:1: SyntaxWarning: invalid escape sequence '\\e'\n",
      "  '-'.join (element for element in [element.replace('</em>','').strip() for element in results[2]['botanicalName'].split('<em>').split('<\\em>')] if element != '' )\n",
      "C:\\Users\\andre\\AppData\\Local\\Temp\\ipykernel_16156\\269324660.py:1: SyntaxWarning: invalid escape sequence '\\e'\n",
      "  '-'.join (element for element in [element.replace('</em>','').strip() for element in results[2]['botanicalName'].split('<em>').split('<\\em>')] if element != '' )\n"
     ]
    },
    {
     "ename": "AttributeError",
     "evalue": "'list' object has no attribute 'split'",
     "output_type": "error",
     "traceback": [
      "\u001b[1;31m---------------------------------------------------------------------------\u001b[0m",
      "\u001b[1;31mAttributeError\u001b[0m                            Traceback (most recent call last)",
      "Cell \u001b[1;32mIn[26], line 1\u001b[0m\n\u001b[1;32m----> 1\u001b[0m \u001b[38;5;124m'\u001b[39m\u001b[38;5;124m-\u001b[39m\u001b[38;5;124m'\u001b[39m\u001b[38;5;241m.\u001b[39mjoin (element \u001b[38;5;28;01mfor\u001b[39;00m element \u001b[38;5;129;01min\u001b[39;00m [element\u001b[38;5;241m.\u001b[39mreplace(\u001b[38;5;124m'\u001b[39m\u001b[38;5;124m</em>\u001b[39m\u001b[38;5;124m'\u001b[39m,\u001b[38;5;124m'\u001b[39m\u001b[38;5;124m'\u001b[39m)\u001b[38;5;241m.\u001b[39mstrip() \u001b[38;5;28;01mfor\u001b[39;00m element \u001b[38;5;129;01min\u001b[39;00m \u001b[43mresults\u001b[49m\u001b[43m[\u001b[49m\u001b[38;5;241;43m2\u001b[39;49m\u001b[43m]\u001b[49m\u001b[43m[\u001b[49m\u001b[38;5;124;43m'\u001b[39;49m\u001b[38;5;124;43mbotanicalName\u001b[39;49m\u001b[38;5;124;43m'\u001b[39;49m\u001b[43m]\u001b[49m\u001b[38;5;241;43m.\u001b[39;49m\u001b[43msplit\u001b[49m\u001b[43m(\u001b[49m\u001b[38;5;124;43m'\u001b[39;49m\u001b[38;5;124;43m<em>\u001b[39;49m\u001b[38;5;124;43m'\u001b[39;49m\u001b[43m)\u001b[49m\u001b[38;5;241;43m.\u001b[39;49m\u001b[43msplit\u001b[49m(\u001b[38;5;124m'\u001b[39m\u001b[38;5;124m<\u001b[39m\u001b[38;5;124m\\\u001b[39m\u001b[38;5;124mem>\u001b[39m\u001b[38;5;124m'\u001b[39m)] \u001b[38;5;28;01mif\u001b[39;00m element \u001b[38;5;241m!=\u001b[39m \u001b[38;5;124m'\u001b[39m\u001b[38;5;124m'\u001b[39m )\n\u001b[0;32m      2\u001b[0m \u001b[38;5;66;03m#\u001b[39;00m\n",
      "\u001b[1;31mAttributeError\u001b[0m: 'list' object has no attribute 'split'"
     ]
    }
   ],
   "source": [
    "'-'.join (element for element in [element.replace('</em>','').strip() for element in results[2]['botanicalName'].split('<em>').split('<\\em>')] if element != '' )\n",
    "#\n",
    "\n"
   ]
  },
  {
   "cell_type": "code",
   "execution_count": 15,
   "id": "f8f61f4e-e26e-4ed1-aaa8-5a8d08767e2a",
   "metadata": {},
   "outputs": [
    {
     "data": {
      "text/plain": [
       "'<em>Primula</em> <em>veris</em> (Pr)'"
      ]
     },
     "execution_count": 15,
     "metadata": {},
     "output_type": "execute_result"
    }
   ],
   "source": [
    "results[2]['botanicalName']\n"
   ]
  },
  {
   "cell_type": "code",
   "execution_count": null,
   "id": "9217b177-df7f-47ca-89e6-0fc48fe4f5a5",
   "metadata": {},
   "outputs": [],
   "source": []
  }
 ],
 "metadata": {
  "kernelspec": {
   "display_name": "Python 3 (ipykernel)",
   "language": "python",
   "name": "python3"
  },
  "language_info": {
   "codemirror_mode": {
    "name": "ipython",
    "version": 3
   },
   "file_extension": ".py",
   "mimetype": "text/x-python",
   "name": "python",
   "nbconvert_exporter": "python",
   "pygments_lexer": "ipython3",
   "version": "3.12.1"
  }
 },
 "nbformat": 4,
 "nbformat_minor": 5
}
