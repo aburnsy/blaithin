{
 "cells": [
  {
   "cell_type": "code",
   "execution_count": 1,
   "id": "19869c62-83bd-49bb-8562-9930a4d43231",
   "metadata": {},
   "outputs": [],
   "source": [
    "from requests_html import HTMLSession\n",
    "from bs4 import BeautifulSoup\n",
    "from urllib.parse import urljoin"
   ]
  },
  {
   "cell_type": "code",
   "execution_count": 2,
   "id": "c391f6be-0e35-47d6-91e7-58fa317c05db",
   "metadata": {},
   "outputs": [],
   "source": [
    "session = HTMLSession()\n",
    "URL = 'https://shop.tullynurseries.ie/Product/Browse.aspx?Code=Topiary'\n",
    "page = session.get(URL)"
   ]
  },
  {
   "cell_type": "code",
   "execution_count": 19,
   "id": "88e5127c-3ce7-4606-b9fe-c2257f3172e2",
   "metadata": {},
   "outputs": [
    {
     "name": "stdout",
     "output_type": "stream",
     "text": [
      "https://shop.tullynurseries.ie/Product/View.aspx?Code=BUX175\n",
      "BUXUS sempervirens 110-130cm Ball\n",
      "BUX175\n",
      "https://shop.tullynurseries.ie/Product/Image.ashx?ProductId=6927730\n",
      "https://shop.tullynurseries.ie/Product/Image.ashx?ProductId=6927730&Thumbnail=true\n",
      "Biodiversity. \n",
      "Yellow-White Flowers Apr-May. H1m S1m. Wildlife. Formal Topiary Traits. Evergreen. Sun-Semi Shade.\n",
      "Pollinator\n",
      "Bee Friendly.\n",
      "396.4758\n",
      "450.0\n",
      "230 Litre\n",
      "1\n"
     ]
    },
    {
     "data": {
      "text/plain": [
       "<IPython.core.autocall.ZMQExitAutocall at 0x1b52d0510d0>"
      ]
     },
     "execution_count": 19,
     "metadata": {},
     "output_type": "execute_result"
    }
   ],
   "source": [
    "content = BeautifulSoup(page.content, \"html.parser\")\n",
    "products = content.table.find_all('tr')\n",
    "# Skip the first row as that as the heading though its not labeled as such\n",
    "for product in products[1:]:\n",
    "    product_link = product.find('a', class_= 'productLink')\n",
    "    product_url = urljoin(URL, product_link['href'])\n",
    "    product_name = product.find('p', class_= 'productName').text\n",
    "    product_code = product.find('p', class_= 'productCode').find('span').text\n",
    "    image = product.find('div', class_= 'imageWrap').find('img')\n",
    "    thumbnail_url = urljoin(URL, image['src'])\n",
    "    img_url = thumbnail_url.rsplit('&Thumbnail=true', 1)[0]\n",
    "    description = product.find('p', class_= 'description').find('span').text\n",
    "    price_exc_vat = product.find('div', class_ = 'priceVatExcCurrencySymbol').find_all('span')[1].text\n",
    "    price_inc_vat = round(float(price_exc_vat) * 1.135, 2)\n",
    "    size = product.find('div', class_ = 'columnField').find('span').text  \n",
    "    stock = int(product.find('div', class_ = 'inStock').text)\n",
    "\n",
    "    print(product_url)\n",
    "    print(product_name)\n",
    "    print(product_code)\n",
    "    print(img_url)\n",
    "    print(thumbnail_url)\n",
    "    print(description)\n",
    "    print(price_exc_vat)\n",
    "    print(price_inc_vat)\n",
    "    print(size)\n",
    "    print(stock)\n",
    "    break\n",
    "exit"
   ]
  },
  {
   "cell_type": "code",
   "execution_count": null,
   "id": "29326283-fc24-426b-89d6-80805b134f85",
   "metadata": {},
   "outputs": [],
   "source": []
  }
 ],
 "metadata": {
  "kernelspec": {
   "display_name": "Python 3 (ipykernel)",
   "language": "python",
   "name": "python3"
  },
  "language_info": {
   "codemirror_mode": {
    "name": "ipython",
    "version": 3
   },
   "file_extension": ".py",
   "mimetype": "text/x-python",
   "name": "python",
   "nbconvert_exporter": "python",
   "pygments_lexer": "ipython3",
   "version": "3.12.1"
  }
 },
 "nbformat": 4,
 "nbformat_minor": 5
}
