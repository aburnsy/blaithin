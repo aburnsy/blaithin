{
 "cells": [
  {
   "cell_type": "code",
   "execution_count": 8,
   "id": "0ccdc66d-1031-4f0e-9f20-e78f87c1c329",
   "metadata": {},
   "outputs": [
    {
     "data": {
      "text/plain": [
       "polars.config.Config"
      ]
     },
     "execution_count": 8,
     "metadata": {},
     "output_type": "execute_result"
    }
   ],
   "source": [
    "import polars as pl\n",
    "pl.Config.set_tbl_rows(1000)"
   ]
  },
  {
   "cell_type": "code",
   "execution_count": 46,
   "id": "1b7f2bc7-55af-4098-8ae7-75c73f8169e1",
   "metadata": {},
   "outputs": [
    {
     "data": {
      "text/html": [
       "<div><style>\n",
       ".dataframe > thead > tr,\n",
       ".dataframe > tbody > tr {\n",
       "  text-align: right;\n",
       "  white-space: pre-wrap;\n",
       "}\n",
       "</style>\n",
       "<small>shape: (5, 13)</small><table border=\"1\" class=\"dataframe\"><thead><tr><th>source</th><th>source_url</th><th>product_url</th><th>category</th><th>product_name</th><th>product_code</th><th>img_url</th><th>description</th><th>price</th><th>size</th><th>stock</th><th>tests</th><th>quantity</th></tr><tr><td>str</td><td>str</td><td>str</td><td>str</td><td>str</td><td>str</td><td>str</td><td>str</td><td>f64</td><td>str</td><td>i64</td><td>null</td><td>i32</td></tr></thead><tbody><tr><td>&quot;tullys&quot;</td><td>&quot;https://shop.tullynurseries.ie/Product/Browse.aspx?Code=FruitTrees&quot;</td><td>&quot;https://shop.tullynurseries.ie/Product/View.aspx?Code=PRU515&quot;</td><td>&quot;Fruit Trees&quot;</td><td>&quot;PRUNUS Morello (Cherry)&quot;</td><td>&quot;PRU515&quot;</td><td>&quot;https://shop.tullynurseries.ie/Product/Image.ashx?ProductId=1990201&quot;</td><td>&quot;Edible. Wildlife. Pollinator. Bee Friendly.\r\n",
       "\r\n",
       "Dark Sour/Acid Cherry Jun+. H5m S3m. White Flowers-Mar. Deciduous. Mulch. Stake. Shelter. Sun-Semi Shade. Sensory Taste.&quot;</td><td>51.08</td><td>&quot;7.5-10 Litre&quot;</td><td>2</td><td>null</td><td>1</td></tr><tr><td>&quot;tullys&quot;</td><td>&quot;https://shop.tullynurseries.ie/Product/Browse.aspx?Code=FruitTrees&quot;</td><td>&quot;https://shop.tullynurseries.ie/Product/View.aspx?Code=PRU1125&quot;</td><td>&quot;Fruit Trees&quot;</td><td>&quot;PRUNUS avium Regina Double U Shape Espalier (Cherry)&quot;</td><td>&quot;PRU1125&quot;</td><td>&quot;https://shop.tullynurseries.ie/Product/Image.ashx?ProductId=8273383&quot;</td><td>&quot;Edible. Wildlife. Pollinator. Bee Friendly.\r\n",
       "\r\n",
       "Large Desert Cherry Har:Jul. White Flowers: Mar. H4m S3m. Trained U Shape. Deciduous. Sun-Semi Shade.&quot;</td><td>363.2</td><td>&quot;Rootball + Pot&quot;</td><td>2</td><td>null</td><td>1</td></tr><tr><td>&quot;tullys&quot;</td><td>&quot;https://shop.tullynurseries.ie/Product/Browse.aspx?Code=FruitTrees&quot;</td><td>&quot;https://shop.tullynurseries.ie/Product/View.aspx?Code=PUN006&quot;</td><td>&quot;Fruit Trees&quot;</td><td>&quot;PUNICA granatum (Fruit Bearing) Half Standard&quot;</td><td>&quot;PUN006&quot;</td><td>&quot;https://shop.tullynurseries.ie/Product/Image.ashx?ProductId=6153263&quot;</td><td>&quot;Edible. Wildlife. Pollinator. Bee Friendly.\r\n",
       "\r\n",
       "Orange Flowers Jul. H1.2m S0.9m. Pomegranate. Indoor/Outdoor. Deciduous. Shelter. Sun-Semi Shade.&quot;</td><td>680.0</td><td>&quot;80 Litre&quot;</td><td>1</td><td>null</td><td>1</td></tr><tr><td>&quot;tullys&quot;</td><td>&quot;https://shop.tullynurseries.ie/Product/Browse.aspx?Code=FruitTrees&quot;</td><td>&quot;https://shop.tullynurseries.ie/Product/View.aspx?Code=COR479&quot;</td><td>&quot;Fruit Trees&quot;</td><td>&quot;CORYLUS Rode Zellernoot 175-200cm (Hazel) &quot;</td><td>&quot;COR479&quot;</td><td>&quot;https://shop.tullynurseries.ie/Product/Image.ashx?ProductId=3416232&quot;</td><td>&quot;Edible. Wildlife. Pollinator. Bee Friendly.\r\n",
       "\r\n",
       "Rose-Red Flowers Jan-Mar. H4m S4m. Burgundy/Green Hue. Edible Fruit. Deciduous. Sun-Semi Shade. Sensory Taste.&quot;</td><td>66.97</td><td>&quot;10-15 Litre&quot;</td><td>4</td><td>null</td><td>1</td></tr><tr><td>&quot;tullys&quot;</td><td>&quot;https://shop.tullynurseries.ie/Product/Browse.aspx?Code=FruitTrees&quot;</td><td>&quot;https://shop.tullynurseries.ie/Product/View.aspx?Code=FRU001&quot;</td><td>&quot;Fruit Trees&quot;</td><td>&quot;FRUIT Trees mixed Half Standard&quot;</td><td>&quot;FRU001&quot;</td><td>&quot;https://shop.tullynurseries.ie/Product/Image.ashx?ProductId=5412872&quot;</td><td>&quot;Edible Foliage. Warm Aroma. H0.5m S0.5m. Harvest: Apr+. Violet Flowers. Water. Sun-Semi Shade.&quot;</td><td>80.0</td><td>&quot;15 Litre&quot;</td><td>6</td><td>null</td><td>1</td></tr></tbody></table></div>"
      ],
      "text/plain": [
       "shape: (5, 13)\n",
       "┌────────┬───────────────────────────────────────────────────┬───────────────────────────────────────────────────┬─────────────┬───┬────────────────┬───────┬───────┬──────────┐\n",
       "│ source ┆ source_url                                        ┆ product_url                                       ┆ category    ┆ … ┆ size           ┆ stock ┆ tests ┆ quantity │\n",
       "│ ---    ┆ ---                                               ┆ ---                                               ┆ ---         ┆   ┆ ---            ┆ ---   ┆ ---   ┆ ---      │\n",
       "│ str    ┆ str                                               ┆ str                                               ┆ str         ┆   ┆ str            ┆ i64   ┆ null  ┆ i32      │\n",
       "╞════════╪═══════════════════════════════════════════════════╪═══════════════════════════════════════════════════╪═════════════╪═══╪════════════════╪═══════╪═══════╪══════════╡\n",
       "│ tullys ┆ https://shop.tullynurseries.ie/Product/Browse.asp ┆ https://shop.tullynurseries.ie/Product/View.aspx? ┆ Fruit Trees ┆ … ┆ 7.5-10 Litre   ┆ 2     ┆ null  ┆ 1        │\n",
       "│        ┆ x?Code=FruitTrees                                 ┆ Code=PRU515                                       ┆             ┆   ┆                ┆       ┆       ┆          │\n",
       "│ tullys ┆ https://shop.tullynurseries.ie/Product/Browse.asp ┆ https://shop.tullynurseries.ie/Product/View.aspx? ┆ Fruit Trees ┆ … ┆ Rootball + Pot ┆ 2     ┆ null  ┆ 1        │\n",
       "│        ┆ x?Code=FruitTrees                                 ┆ Code=PRU1125                                      ┆             ┆   ┆                ┆       ┆       ┆          │\n",
       "│ tullys ┆ https://shop.tullynurseries.ie/Product/Browse.asp ┆ https://shop.tullynurseries.ie/Product/View.aspx? ┆ Fruit Trees ┆ … ┆ 80 Litre       ┆ 1     ┆ null  ┆ 1        │\n",
       "│        ┆ x?Code=FruitTrees                                 ┆ Code=PUN006                                       ┆             ┆   ┆                ┆       ┆       ┆          │\n",
       "│ tullys ┆ https://shop.tullynurseries.ie/Product/Browse.asp ┆ https://shop.tullynurseries.ie/Product/View.aspx? ┆ Fruit Trees ┆ … ┆ 10-15 Litre    ┆ 4     ┆ null  ┆ 1        │\n",
       "│        ┆ x?Code=FruitTrees                                 ┆ Code=COR479                                       ┆             ┆   ┆                ┆       ┆       ┆          │\n",
       "│ tullys ┆ https://shop.tullynurseries.ie/Product/Browse.asp ┆ https://shop.tullynurseries.ie/Product/View.aspx? ┆ Fruit Trees ┆ … ┆ 15 Litre       ┆ 6     ┆ null  ┆ 1        │\n",
       "│        ┆ x?Code=FruitTrees                                 ┆ Code=FRU001                                       ┆             ┆   ┆                ┆       ┆       ┆          │\n",
       "└────────┴───────────────────────────────────────────────────┴───────────────────────────────────────────────────┴─────────────┴───┴────────────────┴───────┴───────┴──────────┘"
      ]
     },
     "execution_count": 46,
     "metadata": {},
     "output_type": "execute_result"
    }
   ],
   "source": [
    "df = pl.read_parquet('test\\\\tullys.parquet')\n",
    "# df['stock'].unique()\n",
    "# df.filter(pl.col(\"description\").str.len_bytes() == 0).select('product_url')\n",
    "df.sample(5)"
   ]
  },
  {
   "cell_type": "code",
   "execution_count": null,
   "id": "dd284df3-bb09-4d72-87ab-bc433c495880",
   "metadata": {},
   "outputs": [],
   "source": []
  }
 ],
 "metadata": {
  "kernelspec": {
   "display_name": "Python 3 (ipykernel)",
   "language": "python",
   "name": "python3"
  },
  "language_info": {
   "codemirror_mode": {
    "name": "ipython",
    "version": 3
   },
   "file_extension": ".py",
   "mimetype": "text/x-python",
   "name": "python",
   "nbconvert_exporter": "python",
   "pygments_lexer": "ipython3",
   "version": "3.12.1"
  }
 },
 "nbformat": 4,
 "nbformat_minor": 5
}
